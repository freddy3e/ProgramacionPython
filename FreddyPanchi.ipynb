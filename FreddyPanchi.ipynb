{
 "cells": [
  {
   "cell_type": "markdown",
   "metadata": {},
   "source": [
    "# Programación en Python\n",
    "\n",
    "## Análisis de la participación de accidentes de tránsito y víctimas a nivel nacional\n",
    "\n",
    "\n",
    "**Realizado por:** Freddy Manuel Panchi Guamangallo.\n",
    "\n",
    "\n",
    "**Descripción del conjunto de datos:** <br>\n",
    "Contiene información referente al número de accidentes de tránsito con respecto a: causas y clases del accidente, mes, provincia y número de fallecidos y lesionados; misma que fue proporcionada por la Agencia Nacional de Tránsito (ANT), respecto al año 2016.\n",
    "\n",
    "\n",
    "El presente documento tiene como objetivo analizar el conjunto de datos para responder las siguientes preguntas:\n",
    "\n",
    "1. ¿Cuál es la provincia en la que se han registrado la mayor cantidad de accidentes de tránsito?\n",
    "2. ¿Cuál es el mes en el que más accidentes de tránsito ocurren?\n",
    "3. ¿Cuál es el día en el que más accidentes de tránsito ocurren?\n",
    "4. ¿Cuáles son las clases más frecuentes en los accidentes de tránsito?\n",
    "5. ¿Cuáles son las causas más frecuentes en los accidentes de tránsito?\n",
    "\n",
    "[Fuente del recurso](https://anda.inec.gob.ec/anda/index.php/catalog/604/related_materials)\n",
    "\n",
    "[URI del recurso](http://www.ecuadorencifras.gob.ec/transporte/)\n",
    "\n",
    "[//]: <> (This is also a comment.)"
   ]
  },
  {
   "cell_type": "markdown",
   "metadata": {},
   "source": [
    "## Desarrollo"
   ]
  },
  {
   "cell_type": "code",
   "execution_count": 131,
   "metadata": {},
   "outputs": [],
   "source": [
    "#Importando librerías\n",
    "import pandas as pd\n",
    "import numpy as np\n",
    "import matplotlib.pyplot as plt"
   ]
  },
  {
   "cell_type": "code",
   "execution_count": 132,
   "metadata": {
    "scrolled": false
   },
   "outputs": [
    {
     "data": {
      "text/html": [
       "<div>\n",
       "<style scoped>\n",
       "    .dataframe tbody tr th:only-of-type {\n",
       "        vertical-align: middle;\n",
       "    }\n",
       "\n",
       "    .dataframe tbody tr th {\n",
       "        vertical-align: top;\n",
       "    }\n",
       "\n",
       "    .dataframe thead th {\n",
       "        text-align: right;\n",
       "    }\n",
       "</style>\n",
       "<table border=\"1\" class=\"dataframe\">\n",
       "  <thead>\n",
       "    <tr style=\"text-align: right;\">\n",
       "      <th></th>\n",
       "      <th>PROVINCIA</th>\n",
       "      <th>CANTON</th>\n",
       "      <th>MES</th>\n",
       "      <th>DIA</th>\n",
       "      <th>HORA</th>\n",
       "      <th>CLASE</th>\n",
       "      <th>CAUSA</th>\n",
       "      <th>ZONA</th>\n",
       "      <th>NUM_LESIONADO</th>\n",
       "      <th>NUM_FALLECIDO</th>\n",
       "      <th>TOTAL_VICTIMAS</th>\n",
       "    </tr>\n",
       "  </thead>\n",
       "  <tbody>\n",
       "    <tr>\n",
       "      <th>0</th>\n",
       "      <td>18</td>\n",
       "      <td>1801</td>\n",
       "      <td>1</td>\n",
       "      <td>5</td>\n",
       "      <td>4</td>\n",
       "      <td>4</td>\n",
       "      <td>1</td>\n",
       "      <td>1</td>\n",
       "      <td>0</td>\n",
       "      <td>0</td>\n",
       "      <td>0</td>\n",
       "    </tr>\n",
       "    <tr>\n",
       "      <th>1</th>\n",
       "      <td>18</td>\n",
       "      <td>1801</td>\n",
       "      <td>1</td>\n",
       "      <td>5</td>\n",
       "      <td>14</td>\n",
       "      <td>4</td>\n",
       "      <td>1</td>\n",
       "      <td>1</td>\n",
       "      <td>0</td>\n",
       "      <td>0</td>\n",
       "      <td>0</td>\n",
       "    </tr>\n",
       "    <tr>\n",
       "      <th>2</th>\n",
       "      <td>18</td>\n",
       "      <td>1801</td>\n",
       "      <td>1</td>\n",
       "      <td>5</td>\n",
       "      <td>6</td>\n",
       "      <td>3</td>\n",
       "      <td>1</td>\n",
       "      <td>2</td>\n",
       "      <td>0</td>\n",
       "      <td>0</td>\n",
       "      <td>0</td>\n",
       "    </tr>\n",
       "    <tr>\n",
       "      <th>3</th>\n",
       "      <td>18</td>\n",
       "      <td>1801</td>\n",
       "      <td>1</td>\n",
       "      <td>5</td>\n",
       "      <td>11</td>\n",
       "      <td>4</td>\n",
       "      <td>1</td>\n",
       "      <td>1</td>\n",
       "      <td>0</td>\n",
       "      <td>0</td>\n",
       "      <td>0</td>\n",
       "    </tr>\n",
       "    <tr>\n",
       "      <th>4</th>\n",
       "      <td>18</td>\n",
       "      <td>1801</td>\n",
       "      <td>1</td>\n",
       "      <td>5</td>\n",
       "      <td>22</td>\n",
       "      <td>4</td>\n",
       "      <td>10</td>\n",
       "      <td>2</td>\n",
       "      <td>3</td>\n",
       "      <td>0</td>\n",
       "      <td>3</td>\n",
       "    </tr>\n",
       "    <tr>\n",
       "      <th>...</th>\n",
       "      <td>...</td>\n",
       "      <td>...</td>\n",
       "      <td>...</td>\n",
       "      <td>...</td>\n",
       "      <td>...</td>\n",
       "      <td>...</td>\n",
       "      <td>...</td>\n",
       "      <td>...</td>\n",
       "      <td>...</td>\n",
       "      <td>...</td>\n",
       "      <td>...</td>\n",
       "    </tr>\n",
       "    <tr>\n",
       "      <th>30264</th>\n",
       "      <td>17</td>\n",
       "      <td>1701</td>\n",
       "      <td>12</td>\n",
       "      <td>6</td>\n",
       "      <td>22</td>\n",
       "      <td>3</td>\n",
       "      <td>1</td>\n",
       "      <td>1</td>\n",
       "      <td>0</td>\n",
       "      <td>0</td>\n",
       "      <td>0</td>\n",
       "    </tr>\n",
       "    <tr>\n",
       "      <th>30265</th>\n",
       "      <td>17</td>\n",
       "      <td>1701</td>\n",
       "      <td>12</td>\n",
       "      <td>6</td>\n",
       "      <td>17</td>\n",
       "      <td>7</td>\n",
       "      <td>3</td>\n",
       "      <td>1</td>\n",
       "      <td>1</td>\n",
       "      <td>0</td>\n",
       "      <td>1</td>\n",
       "    </tr>\n",
       "    <tr>\n",
       "      <th>30266</th>\n",
       "      <td>17</td>\n",
       "      <td>1701</td>\n",
       "      <td>12</td>\n",
       "      <td>6</td>\n",
       "      <td>5</td>\n",
       "      <td>4</td>\n",
       "      <td>3</td>\n",
       "      <td>2</td>\n",
       "      <td>0</td>\n",
       "      <td>0</td>\n",
       "      <td>0</td>\n",
       "    </tr>\n",
       "    <tr>\n",
       "      <th>30267</th>\n",
       "      <td>17</td>\n",
       "      <td>1701</td>\n",
       "      <td>12</td>\n",
       "      <td>6</td>\n",
       "      <td>18</td>\n",
       "      <td>3</td>\n",
       "      <td>4</td>\n",
       "      <td>1</td>\n",
       "      <td>0</td>\n",
       "      <td>0</td>\n",
       "      <td>0</td>\n",
       "    </tr>\n",
       "    <tr>\n",
       "      <th>30268</th>\n",
       "      <td>17</td>\n",
       "      <td>1701</td>\n",
       "      <td>12</td>\n",
       "      <td>6</td>\n",
       "      <td>11</td>\n",
       "      <td>5</td>\n",
       "      <td>4</td>\n",
       "      <td>1</td>\n",
       "      <td>0</td>\n",
       "      <td>0</td>\n",
       "      <td>0</td>\n",
       "    </tr>\n",
       "  </tbody>\n",
       "</table>\n",
       "<p>30269 rows × 11 columns</p>\n",
       "</div>"
      ],
      "text/plain": [
       "       PROVINCIA  CANTON  MES  DIA  HORA  CLASE  CAUSA  ZONA  NUM_LESIONADO  \\\n",
       "0             18    1801    1    5     4      4      1     1              0   \n",
       "1             18    1801    1    5    14      4      1     1              0   \n",
       "2             18    1801    1    5     6      3      1     2              0   \n",
       "3             18    1801    1    5    11      4      1     1              0   \n",
       "4             18    1801    1    5    22      4     10     2              3   \n",
       "...          ...     ...  ...  ...   ...    ...    ...   ...            ...   \n",
       "30264         17    1701   12    6    22      3      1     1              0   \n",
       "30265         17    1701   12    6    17      7      3     1              1   \n",
       "30266         17    1701   12    6     5      4      3     2              0   \n",
       "30267         17    1701   12    6    18      3      4     1              0   \n",
       "30268         17    1701   12    6    11      5      4     1              0   \n",
       "\n",
       "       NUM_FALLECIDO  TOTAL_VICTIMAS  \n",
       "0                  0               0  \n",
       "1                  0               0  \n",
       "2                  0               0  \n",
       "3                  0               0  \n",
       "4                  0               3  \n",
       "...              ...             ...  \n",
       "30264              0               0  \n",
       "30265              0               1  \n",
       "30266              0               0  \n",
       "30267              0               0  \n",
       "30268              0               0  \n",
       "\n",
       "[30269 rows x 11 columns]"
      ]
     },
     "execution_count": 132,
     "metadata": {},
     "output_type": "execute_result"
    }
   ],
   "source": [
    "#Importando el conjunto de datos\n",
    "data_info = pd.read_csv(\"data3.csv\")\n",
    "data_info"
   ]
  },
  {
   "cell_type": "code",
   "execution_count": 133,
   "metadata": {},
   "outputs": [],
   "source": [
    "#Lista de provincias en orden \n",
    "provincias = ['AZUAY','BOLIVAR','CAÑAR','CARCHI','COTOPAXI','CHIMBORAZO','EL ORO','ESMERALDAS','GUAYAS','IMBABURA','LOJA','LOS RIOS','MANABI','MORONA SANTIAGO','NAPO','PASTAZA','PICHINCHA','TUNGURAHUA','ZAMORA CHINCHIPE','GALAPAGOS','SUCUMBIOS','ORELLANA','SANTO DOMINGO DE LOS TSACHILAS','SANTA ELENA']\n",
    "meses = ['ENERO','FEBRERO','MARZO','ABRIL','MAYO','JUNIO','JULIO','AGOSTO','SEPTIEMBRE','OCTUBRE','NOVIEMBRE','DICIEMBRE']\n",
    "dias = ['LUNES', 'MARTES', 'MIERCOLES', 'JUEVES', 'VIERNES','SABADO','DOMINGO']\n",
    "clases = ['ATROPELLADOS','CAIDA PASAJERO','CHOQUES','ESTRELLAMIENTOS','ROZAMIENTOS','VOLCAMIENTOS','PÉRDIDA DE PISTA','OTROS']\n",
    "causas = [ 'EMBRIAGUEZ O DROGA','MAL REBASAMIENTO INVADIR CARRIL','EXCESO VELOCIDAD','IMPERICIA E IMPRUDDENCIA DEL CONDUCTOR','IMPRUDENCIA  DEL PEATÓN','DAÑOS MECÁNICOS','NO RESPETA LAS SEÑALES DE TRÁNSITO','FACTORES CLIMÁTICOS','MAL ESTADO DE LA VÍA','OTRAS CAUSAS']"
   ]
  },
  {
   "cell_type": "code",
   "execution_count": 134,
   "metadata": {},
   "outputs": [
    {
     "name": "stdout",
     "output_type": "stream",
     "text": [
      "El conjunto de datos a analizar tiene 30269 registros\n"
     ]
    }
   ],
   "source": [
    "print(f\"El conjunto de datos a analizar tiene {data_info['PROVINCIA'].count()} registros\")"
   ]
  },
  {
   "cell_type": "markdown",
   "metadata": {},
   "source": [
    "## 1. ¿Cuál es la provincia en la que se han registrado la mayor cantidad de accidentes de transito?"
   ]
  },
  {
   "cell_type": "code",
   "execution_count": 135,
   "metadata": {},
   "outputs": [
    {
     "data": {
      "text/plain": [
       "AZUAY                              1311\n",
       "BOLIVAR                             193\n",
       "CAÑAR                               218\n",
       "CARCHI                              131\n",
       "COTOPAXI                            427\n",
       "CHIMBORAZO                          743\n",
       "EL ORO                              828\n",
       "ESMERALDAS                          293\n",
       "GUAYAS                             7899\n",
       "IMBABURA                           1536\n",
       "LOJA                                560\n",
       "LOS RIOS                           1036\n",
       "MANABI                             1062\n",
       "MORONA SANTIAGO                     156\n",
       "NAPO                                115\n",
       "PASTAZA                              68\n",
       "PICHINCHA                         10777\n",
       "TUNGURAHUA                         1439\n",
       "ZAMORA CHINCHIPE                    101\n",
       "GALAPAGOS                             4\n",
       "SUCUMBIOS                            72\n",
       "ORELLANA                             44\n",
       "SANTO DOMINGO DE LOS TSACHILAS      792\n",
       "SANTA ELENA                         464\n",
       "Name: PROVINCIA, dtype: int64"
      ]
     },
     "execution_count": 135,
     "metadata": {},
     "output_type": "execute_result"
    }
   ],
   "source": [
    "frecuencias_provincias = data_info['PROVINCIA'].value_counts().sort_index()\n",
    "frecuencias_provincias.index = provincias\n",
    "frecuencias_provincias"
   ]
  },
  {
   "cell_type": "code",
   "execution_count": 136,
   "metadata": {},
   "outputs": [
    {
     "data": {
      "text/plain": [
       "<matplotlib.axes._subplots.AxesSubplot at 0x122001970>"
      ]
     },
     "execution_count": 136,
     "metadata": {},
     "output_type": "execute_result"
    },
    {
     "data": {
      "image/png": "[encoded data removed]",
      "text/plain": [
       "<Figure size 432x288 with 1 Axes>"
      ]
     },
     "metadata": {
      "needs_background": "light"
     },
     "output_type": "display_data"
    }
   ],
   "source": [
    "frecuencias_provincias.plot.bar()"
   ]
  },
  {
   "cell_type": "markdown",
   "metadata": {},
   "source": [
    "De los datos anteriores podemos observar que las provincias que presentan mayor cantidad de accidentes de tránsito son Pichincha y Guayas, mientras que en Galapagos se registra el menor número de accidentes."
   ]
  },
  {
   "cell_type": "markdown",
   "metadata": {},
   "source": [
    "## 2. ¿Cuál es el mes en el que mas accidentes de transito ocurren?"
   ]
  },
  {
   "cell_type": "code",
   "execution_count": 137,
   "metadata": {},
   "outputs": [
    {
     "data": {
      "text/plain": [
       "ENERO         3044\n",
       "FEBRERO       2679\n",
       "MARZO         2513\n",
       "ABRIL         2453\n",
       "MAYO          2425\n",
       "JUNIO         2359\n",
       "JULIO         2559\n",
       "AGOSTO        2396\n",
       "SEPTIEMBRE    2165\n",
       "OCTUBRE       2451\n",
       "NOVIEMBRE     2399\n",
       "DICIEMBRE     2826\n",
       "Name: MES, dtype: int64"
      ]
     },
     "execution_count": 137,
     "metadata": {},
     "output_type": "execute_result"
    }
   ],
   "source": [
    "frecuencias_meses = data_info['MES'].value_counts().sort_index()\n",
    "frecuencias_meses.index = meses\n",
    "frecuencias_meses"
   ]
  },
  {
   "cell_type": "code",
   "execution_count": 138,
   "metadata": {},
   "outputs": [
    {
     "data": {
      "text/plain": [
       "<matplotlib.axes._subplots.AxesSubplot at 0x12269a3d0>"
      ]
     },
     "execution_count": 138,
     "metadata": {},
     "output_type": "execute_result"
    },
    {
     "data": {
      "image/png": "[encoded data removed]",
      "text/plain": [
       "<Figure size 432x288 with 1 Axes>"
      ]
     },
     "metadata": {},
     "output_type": "display_data"
    }
   ],
   "source": [
    "frecuencias_meses.plot.pie()"
   ]
  },
  {
   "cell_type": "code",
   "execution_count": 96,
   "metadata": {},
   "outputs": [
    {
     "name": "stdout",
     "output_type": "stream",
     "text": [
      "El número máximo de accidentes registrados fue: 3044\n",
      "El número mínimo de accidentes registrados fue: 2165\n",
      "El número promedio de accidentes registrados fue: 2522.4166666666665\n",
      "\n"
     ]
    }
   ],
   "source": [
    "print(f\"El número máximo de accidentes registrados fue: {frecuencias_meses.max()}\")\n",
    "print(f\"El número mínimo de accidentes registrados fue: {frecuencias_meses.min()}\")\n",
    "print(f\"El número promedio de accidentes registrados fue: {frecuencias_meses.mean()}\\n\")"
   ]
  },
  {
   "cell_type": "markdown",
   "metadata": {},
   "source": [
    "## 3. ¿Cuál es el día en el que más accidentes de tránsito ocurren?"
   ]
  },
  {
   "cell_type": "code",
   "execution_count": 139,
   "metadata": {},
   "outputs": [
    {
     "data": {
      "text/plain": [
       "LUNES        3875\n",
       "MARTES       3673\n",
       "MIERCOLES    3599\n",
       "JUEVES       3998\n",
       "VIERNES      4696\n",
       "SABADO       5454\n",
       "DOMINGO      4974\n",
       "Name: DIA, dtype: int64"
      ]
     },
     "execution_count": 139,
     "metadata": {},
     "output_type": "execute_result"
    }
   ],
   "source": [
    "frecuencias_dia = data_info['DIA'].value_counts().sort_index()\n",
    "frecuencias_dia.index = dias\n",
    "frecuencias_dia"
   ]
  },
  {
   "cell_type": "code",
   "execution_count": 140,
   "metadata": {},
   "outputs": [
    {
     "data": {
      "text/plain": [
       "<matplotlib.axes._subplots.AxesSubplot at 0x1223ec3d0>"
      ]
     },
     "execution_count": 140,
     "metadata": {},
     "output_type": "execute_result"
    },
    {
     "data": {
      "image/png": "[encoded data removed]",
      "text/plain": [
       "<Figure size 432x288 with 1 Axes>"
      ]
     },
     "metadata": {},
     "output_type": "display_data"
    }
   ],
   "source": [
    "frecuencias_dia.plot.pie()"
   ]
  },
  {
   "cell_type": "code",
   "execution_count": 141,
   "metadata": {},
   "outputs": [
    {
     "name": "stdout",
     "output_type": "stream",
     "text": [
      "El número máximo de accidentes registrados fue: 5454\n",
      "El número mínimo de accidentes registrados fue: 3599\n",
      "Entre los días viernes, sabado y domingo se concentra la mitad de los accidentes registrados\n"
     ]
    }
   ],
   "source": [
    "print(f\"El número máximo de accidentes registrados fue: {frecuencias_dia.max()}\")\n",
    "print(f\"El número mínimo de accidentes registrados fue: {frecuencias_dia.min()}\")\n",
    "print(f\"Entre los días viernes, sabado y domingo se concentra la mitad de los accidentes registrados\")"
   ]
  },
  {
   "cell_type": "markdown",
   "metadata": {},
   "source": [
    "## 4. ¿Cuáles son las clases más frecuentes en los accidentes de tránsito?"
   ]
  },
  {
   "cell_type": "code",
   "execution_count": 142,
   "metadata": {},
   "outputs": [
    {
     "data": {
      "text/plain": [
       "ATROPELLADOS         5075\n",
       "CAIDA PASAJERO        834\n",
       "CHOQUES             13745\n",
       "ESTRELLAMIENTOS      4017\n",
       "ROZAMIENTOS          2051\n",
       "VOLCAMIENTOS          763\n",
       "PÉRDIDA DE PISTA     3273\n",
       "OTROS                 511\n",
       "Name: CLASE, dtype: int64"
      ]
     },
     "execution_count": 142,
     "metadata": {},
     "output_type": "execute_result"
    }
   ],
   "source": [
    "frecuencias_clases = data_info['CLASE'].value_counts().sort_index()\n",
    "frecuencias_clases.index = clases\n",
    "frecuencias_clases"
   ]
  },
  {
   "cell_type": "code",
   "execution_count": 143,
   "metadata": {},
   "outputs": [
    {
     "data": {
      "text/plain": [
       "<matplotlib.axes._subplots.AxesSubplot at 0x1226c6a00>"
      ]
     },
     "execution_count": 143,
     "metadata": {},
     "output_type": "execute_result"
    },
    {
     "data": {
      "image/png": "[encoded data removed]",
      "text/plain": [
       "<Figure size 432x288 with 1 Axes>"
      ]
     },
     "metadata": {},
     "output_type": "display_data"
    }
   ],
   "source": [
    "frecuencias_clases.plot.pie()"
   ]
  },
  {
   "cell_type": "code",
   "execution_count": 144,
   "metadata": {},
   "outputs": [
    {
     "name": "stdout",
     "output_type": "stream",
     "text": [
      "Los choques representan el 45.409494862730845% del total\n"
     ]
    }
   ],
   "source": [
    "print(f\"Los choques representan el {frecuencias_clases.max()*100/data_info['CLASE'].count()}% del total\")"
   ]
  },
  {
   "cell_type": "markdown",
   "metadata": {},
   "source": [
    "## 4. ¿Cuáles son las causas más frecuentes en los accidentes de tránsito?"
   ]
  },
  {
   "cell_type": "code",
   "execution_count": 145,
   "metadata": {},
   "outputs": [
    {
     "data": {
      "text/plain": [
       "EMBRIAGUEZ O DROGA                         2164\n",
       "MAL REBASAMIENTO INVADIR CARRIL            2268\n",
       "EXCESO VELOCIDAD                           3755\n",
       "IMPERICIA E IMPRUDDENCIA DEL CONDUCTOR    15709\n",
       "IMPRUDENCIA  DEL PEATÓN                    1173\n",
       "DAÑOS MECÁNICOS                             229\n",
       "NO RESPETA LAS SEÑALES DE TRÁNSITO         4054\n",
       "FACTORES CLIMÁTICOS                         174\n",
       "MAL ESTADO DE LA VÍA                        241\n",
       "OTRAS CAUSAS                                502\n",
       "Name: CAUSA, dtype: int64"
      ]
     },
     "execution_count": 145,
     "metadata": {},
     "output_type": "execute_result"
    }
   ],
   "source": [
    "frecuencias_causas = data_info['CAUSA'].value_counts().sort_index()\n",
    "frecuencias_causas.index = causas\n",
    "frecuencias_causas"
   ]
  },
  {
   "cell_type": "code",
   "execution_count": 146,
   "metadata": {},
   "outputs": [
    {
     "data": {
      "text/plain": [
       "<matplotlib.axes._subplots.AxesSubplot at 0x1227590d0>"
      ]
     },
     "execution_count": 146,
     "metadata": {},
     "output_type": "execute_result"
    },
    {
     "data": {
      "image/png": "[encoded data removed]",
      "text/plain": [
       "<Figure size 432x288 with 1 Axes>"
      ]
     },
     "metadata": {
      "needs_background": "light"
     },
     "output_type": "display_data"
    }
   ],
   "source": [
    "frecuencias_causas.plot.bar()"
   ]
  },
  {
   "cell_type": "markdown",
   "metadata": {},
   "source": [
    "Las causas más comunes son la **IMPERICIA E IMPRUDENCIA DEL CONDUCTOR** seguido de **NO RESPETAR LAS SEÑALES DE TRANSITO**"
   ]
  },
  {
   "cell_type": "code",
   "execution_count": null,
   "metadata": {},
   "outputs": [],
   "source": []
  }
 ],
 "metadata": {
  "kernelspec": {
   "display_name": "Python 3",
   "language": "python",
   "name": "python3"
  },
  "language_info": {
   "codemirror_mode": {
    "name": "ipython",
    "version": 3
   },
   "file_extension": ".py",
   "mimetype": "text/x-python",
   "name": "python",
   "nbconvert_exporter": "python",
   "pygments_lexer": "ipython3",
   "version": "3.8.3"
  }
 },
 "nbformat": 4,
 "nbformat_minor": 4
}
